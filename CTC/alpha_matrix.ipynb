{
 "cells": [
  {
   "cell_type": "code",
   "execution_count": 1,
   "metadata": {},
   "outputs": [],
   "source": [
    "import torch"
   ]
  },
  {
   "cell_type": "code",
   "execution_count": 2,
   "metadata": {},
   "outputs": [],
   "source": [
    "# # Список меток символов строки, для которой рассчитываем loss. Значение 0 зарезервированно для пустого символа.\n",
    "l = torch.tensor([1,2,2,3,4,], dtype=torch.long)\n",
    "\n",
    "# # y[t, s] - предсказанные сетью вероятности для каждого фрейма.\n",
    "y = torch.tensor(\n",
    "[[1., 1., 1., 1., 1.,],\n",
    " [1., 1., 1., 1., 1.,],\n",
    " [1., 1., 1., 1., 1.,],\n",
    " [1., 1., 1., 1., 1.,],\n",
    " [1., 1., 1., 1., 1.,],\n",
    " [1,  1., 1., 1., 1.,],\n",
    " [1., 1., 1., 1., 1.,],\n",
    " [1., 1., 1., 1., 1.,],],\n",
    " dtype=torch.float32)"
   ]
  },
  {
   "cell_type": "code",
   "execution_count": 3,
   "metadata": {},
   "outputs": [],
   "source": [
    "# создание последовательности, включающей blank символ\n",
    "def create_lexicon(l):\n",
    "    lexicon = torch.zeros(2*l.size()[0]+1)  \n",
    "    j = 0\n",
    "    for i in range(l.size()[0] * 2 + 1):\n",
    "        if(i % 2 == 1):\n",
    "            lexicon[ i ] = l[ j ]\n",
    "            j+=1\n",
    "    return lexicon"
   ]
  },
  {
   "cell_type": "code",
   "execution_count": 4,
   "metadata": {},
   "outputs": [],
   "source": [
    "# инициализация первого столбца предсказанными вероятностями\n",
    "def initialize_first_column(res, y):\n",
    "    res[ 0 ][ 0 ] = y[ 0 ][ y.size(1) - 1 ]\n",
    "    res[ 1 ][ 0 ] = y[ 0 ][ 0 ]\n",
    "    return res"
   ]
  },
  {
   "cell_type": "code",
   "execution_count": 5,
   "metadata": {},
   "outputs": [],
   "source": [
    "# рассчет дистанции от текущего символа до конца последовательности\n",
    "def distance(l, s):\n",
    "    d = 0\n",
    "    while s < l.size(0) - 1:\n",
    "        if l[ s ] == 0: # встречаем blank -> идем дальше\n",
    "            s += 1\n",
    "        elif s + 2 >= l.size(0): # дошли до границы, возвращаем высчитанную дистанцию \n",
    "            return d\n",
    "        elif l[ s ] == l[ s + 2 ]: # если текущий символ равен символу через один символ, перемещаемся на один символ\n",
    "            s += 1\n",
    "        else: # если текущий символ не равен символу через один символ, перемещаемся на два символа\n",
    "            s += 2\n",
    "        d += 1\n",
    "        \n",
    "    return d"
   ]
  },
  {
   "cell_type": "code",
   "execution_count": 6,
   "metadata": {},
   "outputs": [],
   "source": [
    "# проверка валидности пути из данной точки таблицы\n",
    "def is_valid(l, T, s, t): \n",
    "    if (s < l.size(0) - 2 * (T- t) - 1) or distance(l, s) > (T - t - 1):\n",
    "        return True\n",
    "    return False   "
   ]
  },
  {
   "cell_type": "code",
   "execution_count": 7,
   "metadata": {},
   "outputs": [],
   "source": [
    "# значение вероятности в ячейке\n",
    "def get_alpha(res,t,s):\n",
    "    if t >= 0 and s >= 0: \n",
    "        return res[ s ][ t ].item()\n",
    "    else: # если вышли за границы тензора\n",
    "        return 0"
   ]
  },
  {
   "cell_type": "code",
   "execution_count": 8,
   "metadata": {},
   "outputs": [],
   "source": [
    "def compute_ctc_alpha(l, y):\n",
    "\n",
    "    res = initialize_first_column(torch.zeros((2*l.size()[0]+1, y.size()[0])), y) # матрица итоговых вероятностей\n",
    "    lexicon = create_lexicon(l) # последовательность, включающая blank символ\n",
    "\n",
    "    for s in range(res.size(0)):\n",
    "        for t in range(1, res.size(1)):    \n",
    "            if is_valid(lexicon, y.size(0), s, t):\n",
    "                res[s, t] = 0\n",
    "            elif ((lexicon[s] == 0 or lexicon[s-2] == lexicon[s])):\n",
    "                res[s, t] = (res[s, t-1] + res[s-1, t-1]) * y[t, int(lexicon[s].item() - 1 + y.size(1)) % y.size(1)]\n",
    "            else:\n",
    "                res[s, t] = (res[s, t-1] + res[s-1, t-1] + res[s-2, t-1]) * y[t, int(lexicon[s].item() - 1 + y.size(1) ) % y.size(1)]\n",
    "        \n",
    "    return res"
   ]
  },
  {
   "cell_type": "code",
   "execution_count": 9,
   "metadata": {},
   "outputs": [],
   "source": [
    "# Этот блок приведен исключительно для примера. Реальный тест я подставлю сам. \n",
    "# Обязательно сохраните сигнатуру функции compute_ctc_alpha\n",
    "def test():\n",
    "    al = compute_ctc_alpha(l, y)\n",
    "    ritght_al = torch.tensor([[ 1.,  1.,  0.,  0.,  0.,  0.,  0.,  0.],\n",
    "                              [ 1.,  2.,  3.,  0.,  0.,  0.,  0.,  0.],\n",
    "                              [ 0.,  1.,  3.,  0.,  0.,  0.,  0.,  0.],\n",
    "                              [ 0.,  1.,  4., 10.,  0.,  0.,  0.,  0.],\n",
    "                              [ 0.,  0.,  1.,  5., 15.,  0.,  0.,  0.],\n",
    "                              [ 0.,  0.,  0.,  1.,  6., 21.,  0.,  0.],\n",
    "                              [ 0.,  0.,  0.,  0.,  1.,  7.,  0.,  0.],\n",
    "                              [ 0.,  0.,  0.,  0.,  1.,  8., 36.,  0.],\n",
    "                              [ 0.,  0.,  0.,  0.,  0.,  1.,  9.,  0.],\n",
    "                              [ 0.,  0.,  0.,  0.,  0.,  1., 10., 55.],\n",
    "                              [ 0.,  0.,  0.,  0.,  0.,  0.,  1., 11.]])\n",
    "    \n",
    "    if torch.all(al == ritght_al):\n",
    "        return True\n",
    "    else:\n",
    "        return False\n",
    "    \n",
    "assert test(), \"Test failed\"\n",
    "    "
   ]
  },
  {
   "cell_type": "code",
   "execution_count": null,
   "metadata": {},
   "outputs": [],
   "source": []
  }
 ],
 "metadata": {
  "kernelspec": {
   "display_name": "Python 3",
   "language": "python",
   "name": "python3"
  },
  "language_info": {
   "codemirror_mode": {
    "name": "ipython",
    "version": 3
   },
   "file_extension": ".py",
   "mimetype": "text/x-python",
   "name": "python",
   "nbconvert_exporter": "python",
   "pygments_lexer": "ipython3",
   "version": "3.6.5"
  }
 },
 "nbformat": 4,
 "nbformat_minor": 2
}
