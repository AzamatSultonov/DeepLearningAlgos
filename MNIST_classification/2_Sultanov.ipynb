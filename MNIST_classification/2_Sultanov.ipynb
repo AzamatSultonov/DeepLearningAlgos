{
 "cells": [
  {
   "cell_type": "code",
   "execution_count": 1,
   "metadata": {},
   "outputs": [],
   "source": [
    "import numpy as np\n",
    "import matplotlib.pyplot as plt\n",
    "import pickle\n",
    "import tqdm\n",
    "from sklearn.model_selection import train_test_split\n",
    "%matplotlib inline"
   ]
  },
  {
   "cell_type": "code",
   "execution_count": 2,
   "metadata": {},
   "outputs": [],
   "source": [
    "# нормализация\n",
    "def normalize(X,Y):\n",
    "    mean = np.mean(Y, axis=0)\n",
    "    std = np.std(Y, axis=0) + 0.01\n",
    "    return (X - mean) / std"
   ]
  },
  {
   "cell_type": "code",
   "execution_count": 3,
   "metadata": {},
   "outputs": [],
   "source": [
    "# класс one-hot encoder'а для MNIST\n",
    "class OneHotEncoder:\n",
    "    def __init__(self):\n",
    "        self.transform_mapping = np.zeros((10,10))\n",
    "        for i in range(self.transform_mapping.shape[0]):\n",
    "            self.transform_mapping[i][i] = 1.0\n",
    "    def transform(self, y):\n",
    "        return self.transform_mapping[int(y)]"
   ]
  },
  {
   "cell_type": "code",
   "execution_count": 4,
   "metadata": {},
   "outputs": [],
   "source": [
    "def make_submission(X_test, net, iter, fname=\"my_submission.csv\"):\n",
    "    net.set_train(False)\n",
    "    fname = str(iter) + \"_\" + fname\n",
    "    with open(fname,'w') as fout:\n",
    "        fout.write('Id,Category')\n",
    "        for i in range(X_test.shape[0]):\n",
    "            y_h = net.forward(X_test[i])\n",
    "            y = np.argmax(y_h)\n",
    "            fout.write(\"\\n{},{}\".format(i, int(y)))"
   ]
  },
  {
   "cell_type": "code",
   "execution_count": 5,
   "metadata": {},
   "outputs": [],
   "source": [
    "# внимание, тут Y_test в обычном формате(не onehot)\n",
    "def compute_acc(X_test, Y_test, net):\n",
    "    acc = 0.0\n",
    "    for i in range(X_test.shape[0]):\n",
    "        y_h = net.forward(X_test[i])\n",
    "        y = np.argmax(y_h)\n",
    "        if(y == Y_test[i]):\n",
    "            acc += 1.0\n",
    "    return acc / Y_test.shape[0]"
   ]
  },
  {
   "cell_type": "code",
   "execution_count": 6,
   "metadata": {
    "scrolled": false
   },
   "outputs": [],
   "source": [
    "train_data = None\n",
    "test_data = None\n",
    "encoder = OneHotEncoder()\n",
    "\n",
    "with open('data_train.pickle','rb') as fin:\n",
    "    train_data = pickle.load(fin)\n",
    "with open('data_test_no_labels.pickle','rb') as fin:\n",
    "    test_data = pickle.load(fin)\n",
    "    \n",
    "# трейнинговые сеты    \n",
    "X_train = train_data['data']\n",
    "Y_train = train_data['target']\n",
    "\n",
    "# тестовый сет\n",
    "X_test_set = test_data['data']"
   ]
  },
  {
   "cell_type": "code",
   "execution_count": 7,
   "metadata": {},
   "outputs": [
    {
     "data": {
      "image/png": "[encoded data removed]",
      "text/plain": [
       "<Figure size 432x288 with 16 Axes>"
      ]
     },
     "metadata": {},
     "output_type": "display_data"
    }
   ],
   "source": [
    "n=4\n",
    "for i in range(n*n):\n",
    "    plt.subplot(n,n,i+1)\n",
    "    I = train_data['data'][np.random.randint(0, X_train.shape[0]),:]\n",
    "    I = I.reshape((28, 28))\n",
    "    plt.imshow(I, cmap='gray')"
   ]
  },
  {
   "cell_type": "code",
   "execution_count": 8,
   "metadata": {},
   "outputs": [],
   "source": [
    "# подготовка датасета\n",
    "X_train = normalize(X_train,X_train)\n",
    "X_test_set_t = normalize(X_test_set, X_test_set)\n",
    "X_test_set = normalize(X_test_set, X_train)\n",
    "\n",
    "# разделение данных на тренинговые и валидационные сеты\n",
    "X_train, X_test, Y_train, Y_test = train_test_split(X_train, Y_train, test_size=0.1, random_state=10)\n",
    "\n",
    "# кодирование\n",
    "Y_train_enc = np.array(list(map(lambda x : encoder.transform(x), Y_train)))\n",
    "Y_test_enc = np.array(list(map(lambda x : encoder.transform(x), Y_test)))"
   ]
  },
  {
   "cell_type": "code",
   "execution_count": 9,
   "metadata": {},
   "outputs": [],
   "source": [
    "# Определение слоев сети\n",
    "class Dense:\n",
    "    def __init__(self, in_size, out_size, rlambda = 0.0):\n",
    "        self.W = np.random.normal(scale=1, size=(out_size, in_size)) * np.sqrt(2/(out_size + in_size))\n",
    "        self.b = np.zeros(out_size)\n",
    "        self.rlambda = rlambda\n",
    "    \n",
    "    def forward(self, x):\n",
    "        self.x = x # запоминаем для обратного прохода\n",
    "        return np.dot(self.W, x) + self.b\n",
    "    \n",
    "    def get_reg_loss(self):\n",
    "        return 0.5 * self.rlambda * (np.linalg.norm(self.W, ord='fro') ** 2)\n",
    "   \n",
    "    def backward(self, dz, lr=0.001):\n",
    "        # градиенты по параметрам\n",
    "        self.dW = np.outer(dz, self.x)\n",
    "        self.db = dz\n",
    "        # производная по входу\n",
    "        self.dx = np.matmul(dz, self.W) \n",
    "\n",
    "        if(self.rlambda != 0):\n",
    "            self.dW += self.rlambda * self.W\n",
    "            \n",
    "        self.W = self.W - lr * self.dW\n",
    "        self.b = self.b - lr * self.db\n",
    "        \n",
    "        return self.dx\n",
    "\n",
    "class Dropout:\n",
    "    def __init__(self, p = 0.5):\n",
    "        self.p = p\n",
    "        self.train = True\n",
    "    \n",
    "    def set_train(self, train = True):\n",
    "        self.train = train\n",
    "    \n",
    "    def forward(self, x):\n",
    "        if not self.train: # если не в стадии обучения, то не применяем Dropout\n",
    "            self.mask = np.ones(*x.shape)\n",
    "            return x\n",
    "        self.mask = ( np.random.rand(*x.shape) > self.p ) / (1.0 - self.p)\n",
    "        return x * self.mask\n",
    "    # нейроны, которые занулены, не обучаются    \n",
    "    def backward(self, dz, lr=0.001):\n",
    "        return dz * self.mask    \n",
    "    \n",
    "# Функция активации ReLu\n",
    "class Max:\n",
    "    \n",
    "    def forward(self, x):\n",
    "        self.x = x\n",
    "        return np.maximum(0, x)\n",
    "    \n",
    "    def backward(self, dz, lr=0.001):\n",
    "        dz[self.x < 0] = 0\n",
    "        return dz\n",
    "\n",
    "# Функция активации SoftMax\n",
    "class Softmax:\n",
    "    \n",
    "    def forward(self, x):\n",
    "        self.x = x\n",
    "        exps = np.exp(x)\n",
    "        return exps / np.sum(exps)\n",
    "    \n",
    "    def backward(self, dz, lr=0.001):\n",
    "        sm = self.forward(self.x)\n",
    "        self.lp = (np.eye(sm.shape[0], sm.shape[0]) - sm).T\n",
    "        self.lp2 = sm * self.lp\n",
    "        return np.dot(dz, self.lp2)\n",
    "    \n",
    "# Функция ошибки\n",
    "class CrossEntropy:\n",
    "    \n",
    "    def forward(self, y_true, y_hat):\n",
    "        self.y_true = y_true\n",
    "        self.y_hat = y_hat\n",
    "        return -np.sum( y_true * np.log(y_hat) )\n",
    "    \n",
    "    def backward(self, dz, lr=0.001):\n",
    "        return dz * -1. * self.y_true / self.y_hat"
   ]
  },
  {
   "cell_type": "code",
   "execution_count": 10,
   "metadata": {},
   "outputs": [],
   "source": [
    "# Определение самой сети\n",
    "class MnistNet:\n",
    "    \n",
    "    def __init__(self, rlambda=0.0): # rlambda - параметр регуляризации\n",
    "        self.dr1 = Dropout(0.4)\n",
    "        self.d1 = Dense(784, 392, rlambda)\n",
    "        self.m1 = Max()\n",
    "        self.dr2 = Dropout(0.35)\n",
    "        self.d2 = Dense(392, 192, rlambda)\n",
    "        self.m2 = Max()\n",
    "        self.dr3 = Dropout(0.3)\n",
    "        self.d3 = Dense(192, 98, rlambda)\n",
    "        self.m4 = Max()\n",
    "        self.dr4 = Dropout(0.25)\n",
    "        self.d4 = Dense(98, 28, rlambda)\n",
    "        self.m3 = Max()\n",
    "        self.d5 = Dense(28, 10, rlambda)\n",
    "        self.s = Softmax()\n",
    "    \n",
    "    def forward(self, x):\n",
    "        net = self.dr1.forward(x)\n",
    "        net = self.d1.forward(net)\n",
    "        net = self.m1.forward(net)\n",
    "        net = self.dr2.forward(net)\n",
    "        net = self.d2.forward(net)\n",
    "        net = self.m2.forward(net)\n",
    "        net = self.dr3.forward(net)\n",
    "        net = self.d3.forward(net)\n",
    "        net = self.m3.forward(net)\n",
    "        net = self.dr4.forward(net)\n",
    "        net = self.d4.forward(net)\n",
    "        net = self.m4.forward(net)\n",
    "        net = self.d5.forward(net)\n",
    "        net = self.s.forward(net)\n",
    "        return net\n",
    "    \n",
    "    def backward(self, dz, lr):\n",
    "        dz = self.s.backward(dz, lr)\n",
    "        dz = self.d5.backward(dz, lr)\n",
    "        dz = self.m4.backward(dz, lr)\n",
    "        dz = self.d4.backward(dz, lr)\n",
    "        dz = self.dr4.backward(dz, lr)\n",
    "        dz = self.m3.backward(dz, lr)\n",
    "        dz = self.d3.backward(dz, lr)\n",
    "        dz = self.dr3.backward(dz, lr)\n",
    "        dz = self.m2.backward(dz, lr)\n",
    "        dz = self.d2.backward(dz, lr)\n",
    "        dz = self.dr2.backward(dz, lr)\n",
    "        dz = self.m1.backward(dz, lr)\n",
    "        dz = self.d1.backward(dz, lr)\n",
    "        dz = self.dr1.backward(dz, lr)\n",
    "        return dz\n",
    "    def set_train(self, train=True):\n",
    "        self.dr1.set_train(train)\n",
    "        self.dr2.set_train(train)\n",
    "        self.dr3.set_train(train)\n",
    "        self.dr4.set_train(train)"
   ]
  },
  {
   "cell_type": "code",
   "execution_count": null,
   "metadata": {},
   "outputs": [
    {
     "data": {
      "application/vnd.jupyter.widget-view+json": {
       "model_id": "3eca8634266343008d5f0b6603d97d67",
       "version_major": 2,
       "version_minor": 0
      },
      "text/plain": [
       "HBox(children=(IntProgress(value=0, max=50), HTML(value='')))"
      ]
     },
     "metadata": {},
     "output_type": "display_data"
    },
    {
     "data": {
      "application/vnd.jupyter.widget-view+json": {
       "model_id": "91b54605139345599457b84687f7bfec",
       "version_major": 2,
       "version_minor": 0
      },
      "text/plain": [
       "HBox(children=(IntProgress(value=0, max=47250), HTML(value='')))"
      ]
     },
     "metadata": {},
     "output_type": "display_data"
    }
   ],
   "source": [
    "# Здесь процедура обучения\n",
    "net = MnistNet(0.0001)\n",
    "loss = CrossEntropy()\n",
    "lr = 0.01\n",
    "L_train = []\n",
    "L_test = []\n",
    "Acc_train = []\n",
    "Acc_test = []\n",
    "for iter in tqdm.tqdm_notebook(range(50)):\n",
    "    # обучение на train\n",
    "    L_acc = 0.\n",
    "    sh = list(range(X_train.shape[0])) # больше рандома богу рандома\n",
    "    np.random.shuffle(sh)\n",
    "    for i in tqdm.tqdm_notebook(range(X_train.shape[0])):\n",
    "        x = X_train[sh[i]]\n",
    "        y = Y_train_enc[sh[i]]\n",
    "        net.set_train(True)\n",
    "        y_h = net.forward(x)\n",
    "        L = loss.forward(y, y_h)\n",
    "        L_acc += L \n",
    "        dz = loss.backward(1, lr)\n",
    "        dz = net.backward(dz, lr)\n",
    "    L_acc /= Y_train_enc.shape[0]\n",
    "    L_train.append(L_acc)\n",
    "    Acc_train.append(compute_acc(X_train, Y_train, net))\n",
    "    \n",
    "    # проверка на test\n",
    "    L_e_acc = 0.\n",
    "    for i in tqdm.tqdm_notebook(range(X_test.shape[0])):\n",
    "        x = X_test[i]\n",
    "        y = Y_test_enc[i]\n",
    "        net.set_train(False)\n",
    "        y_h = net.forward(x)\n",
    "        L = loss.forward(y, y_h)\n",
    "        L_e_acc += L\n",
    "    L_e_acc /= Y_test_enc.shape[0]\n",
    "    L_test.append(L_e_acc)\n",
    "    Acc_test.append(compute_acc(X_test, Y_test, net))\n",
    "    \n",
    "    # формируем сабмишшен\n",
    "    make_submission(X_test_set, net, iter)\n",
    "    make_submission(X_test_set_t, net, (iter + 1) * 100)\n",
    "\n",
    "    \n",
    "    print(\"{} iter loss. Train : {} . Test : {}\".format(iter, L_acc, L_e_acc))\n",
    "    print(\"Train_acc: {} Test_acc: {}\".format(Acc_train[len(Acc_train) - 1], Acc_test[len(Acc_test) - 1]))"
   ]
  },
  {
   "cell_type": "code",
   "execution_count": null,
   "metadata": {},
   "outputs": [],
   "source": [
    "# Графики CrossEntropyLoss для обучающей и валидационной выборок\n",
    "plt.plot(L_train, label='train')\n",
    "plt.plot(L_test, label='test')"
   ]
  },
  {
   "cell_type": "code",
   "execution_count": null,
   "metadata": {},
   "outputs": [],
   "source": [
    "# Графики Accuracy для обучающей и валидационной выборок\n",
    "plt.plot(Acc_train, label='train')\n",
    "plt.plot(Acc_test, label='test')"
   ]
  }
 ],
 "metadata": {
  "kernelspec": {
   "display_name": "Python 3",
   "language": "python",
   "name": "python3"
  },
  "language_info": {
   "codemirror_mode": {
    "name": "ipython",
    "version": 3
   },
   "file_extension": ".py",
   "mimetype": "text/x-python",
   "name": "python",
   "nbconvert_exporter": "python",
   "pygments_lexer": "ipython3",
   "version": "3.6.5"
  }
 },
 "nbformat": 4,
 "nbformat_minor": 2
}
