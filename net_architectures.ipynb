{
 "cells": [
  {
   "cell_type": "code",
   "execution_count": 1,
   "metadata": {},
   "outputs": [],
   "source": [
    "%matplotlib inline"
   ]
  },
  {
   "cell_type": "code",
   "execution_count": 2,
   "metadata": {},
   "outputs": [],
   "source": [
    "import torch\n",
    "import torch.optim as optim\n",
    "\n",
    "import torch.nn as nn\n",
    "import torch.nn.functional as F\n",
    "\n",
    "from sklearn.metrics import accuracy_score\n",
    "\n",
    "import numpy as np\n",
    "import PIL\n",
    "import random\n",
    "from IPython.core.display import Image, display\n",
    "\n",
    "from tqdm import tqdm_notebook\n",
    "\n",
    "import matplotlib.pyplot as plt"
   ]
  },
  {
   "cell_type": "code",
   "execution_count": 3,
   "metadata": {},
   "outputs": [],
   "source": [
    "DEVICE_ID = 1\n",
    "DEVICE = torch.device('cuda:%d' % DEVICE_ID)\n",
    "torch.cuda.set_device(DEVICE_ID)"
   ]
  },
  {
   "cell_type": "code",
   "execution_count": 4,
   "metadata": {},
   "outputs": [],
   "source": [
    "### Для запуска без GPU раскомментировать и закоментировать код выше\n",
    "# DEVICE = torch.device('cpu')"
   ]
  },
  {
   "cell_type": "code",
   "execution_count": 5,
   "metadata": {},
   "outputs": [],
   "source": [
    "np.random.seed(100500)\n",
    "\n",
    "def data2image(data):\n",
    "    res = np.transpose(np.reshape(data ,(3, 32,32)), (1,2,0))\n",
    "    return PIL.Image.fromarray(np.uint8(res))\n",
    "\n",
    "def imshow(img):\n",
    "    if isinstance(img, torch.Tensor): img = img.numpy().astype('uint8')\n",
    "    plt.imshow(np.transpose(img, (1, 2, 0)))\n",
    "    \n",
    "def prediction2classes(output_var):\n",
    "    _, predicted = torch.max(output_var.data, 1)\n",
    "    predicted.squeeze_()\n",
    "    classes = predicted.tolist()\n",
    "    return classes\n",
    "\n",
    "def make_solution_pytorch(net, input_tensor, a_batch_size):\n",
    "    res = []\n",
    "    net = net.eval()\n",
    "    cur_pos = 0\n",
    "    while cur_pos <= len(input_tensor):\n",
    "        outputs = net(input_tensor[cur_pos:cur_pos+a_batch_size])\n",
    "        res += prediction2classes(outputs)\n",
    "        cur_pos += a_batch_size\n",
    "    return res"
   ]
  },
  {
   "cell_type": "code",
   "execution_count": 6,
   "metadata": {},
   "outputs": [],
   "source": [
    "from torch.utils.data import Dataset, DataLoader\n",
    "from torchvision import transforms, utils\n",
    "from PIL import Image\n",
    "\n",
    "class CifarDataset(Dataset):\n",
    "    def __init__(self, input_path, is_train=True, transform=None):\n",
    "                        \n",
    "        data = np.load(input_path)\n",
    "        if is_train: \n",
    "            self.Y, self.X = np.hsplit(data, [1]) \n",
    "            self.Y = [item[0] for item in self.Y]\n",
    "        else: \n",
    "            self.X = data\n",
    "            self.Y = None\n",
    "            \n",
    "        self.X = self.X.reshape((self.X.shape[0], 3, 32, 32))\n",
    "        self.X = self.X.transpose((0, 2, 3, 1)) #приводим к виду (N, H, W, C)\n",
    "        self.X = [Image.fromarray(img) for img in self.X]\n",
    "                \n",
    "        self.transform = transform\n",
    "\n",
    "    def __len__(self):\n",
    "        return len(self.X)\n",
    "\n",
    "    def __getitem__(self, idx):\n",
    "        \n",
    "        sample = self.X[idx]\n",
    "\n",
    "        if self.transform: sample = self.transform(sample)\n",
    "\n",
    "        if self.Y is None: return sample\n",
    "        else: return (sample, self.Y[idx])"
   ]
  },
  {
   "cell_type": "code",
   "execution_count": 7,
   "metadata": {},
   "outputs": [],
   "source": [
    "DATA_PATH  = '/home/azamat.sultanov/hw4/'\n",
    "train_path = 'homework_4.train.npy'\n",
    "test_path  = 'homework_4_no_classes.test.npy'"
   ]
  },
  {
   "cell_type": "code",
   "execution_count": 8,
   "metadata": {},
   "outputs": [],
   "source": [
    "np_mean = np.mean([item[0].numpy() for item in CifarDataset(DATA_PATH + train_path, transform=transforms.ToTensor())], axis=(0,2,3))\n",
    "np_std = np.std([item[0].numpy() for item in CifarDataset(DATA_PATH + train_path, transform=transforms.ToTensor())], axis=(0,2,3))"
   ]
  },
  {
   "cell_type": "code",
   "execution_count": 9,
   "metadata": {},
   "outputs": [
    {
     "data": {
      "text/plain": [
       "(3,)"
      ]
     },
     "execution_count": 9,
     "metadata": {},
     "output_type": "execute_result"
    }
   ],
   "source": [
    "np_mean.shape"
   ]
  },
  {
   "cell_type": "code",
   "execution_count": 10,
   "metadata": {},
   "outputs": [],
   "source": [
    "cifar_transform_norm = transforms.Compose([\n",
    "    transforms.Pad(4),\n",
    "    transforms.RandomCrop(32),\n",
    "    transforms.RandomHorizontalFlip(),\n",
    "    transforms.ToTensor(),\n",
    "    transforms.Normalize(torch.FloatTensor(np_mean), torch.FloatTensor(np_std))\n",
    "]\n",
    ")\n",
    "\n",
    "cifar_test_transform_norm = transforms.Compose([    \n",
    "    transforms.ToTensor(),\n",
    "    transforms.Normalize(torch.FloatTensor(np_mean), torch.FloatTensor(np_std))\n",
    "]\n",
    ")"
   ]
  },
  {
   "cell_type": "code",
   "execution_count": 11,
   "metadata": {},
   "outputs": [],
   "source": [
    "dataset_train_norm = CifarDataset(DATA_PATH + train_path, transform=cifar_transform_norm)\n",
    "dataloader_train_norm = DataLoader(dataset_train_norm, batch_size=128,\n",
    "                        shuffle=True, num_workers=4)\n",
    "\n",
    "dataset_test_norm = CifarDataset(DATA_PATH + test_path, is_train=False, transform=cifar_test_transform_norm)\n",
    "dataloader_test_norm = DataLoader(dataset_test_norm, batch_size=128,\n",
    "                        shuffle=False, num_workers=1)\n",
    "\n",
    "\n",
    "def train_network(a_net, \n",
    "                  a_device,\n",
    "                  dataloader_train_norm=dataloader_train_norm,\n",
    "                  a_epochs=80,\n",
    "                  a_batch_size=128,\n",
    "                  a_lr=0.1):\n",
    "    \n",
    "    train_acc = []\n",
    "    net = a_net.to(a_device)\n",
    "\n",
    "    criterion = nn.CrossEntropyLoss()\n",
    "    optimizer = torch.optim.SGD(a_net.parameters(), lr=a_lr, weight_decay=0.0001, momentum=0.9)\n",
    "\n",
    "    \n",
    "    for epoch in tqdm_notebook(range(a_epochs)):  # loop over the dataset multiple times\n",
    "        if epoch == 42:\n",
    "            optimizer = torch.optim.SGD(a_net.parameters(), lr=a_lr/10, weight_decay=0.0001, momentum=0.9) \n",
    "        elif epoch == 65:\n",
    "            optimizer = torch.optim.SGD(a_net.parameters(), lr=a_lr/100, weight_decay=0.0001, momentum=0.9) \n",
    "        \n",
    "        net = net.train()        \n",
    "        epoch_accuracy = 0.0\n",
    "        epoch_iters = 0\n",
    "        for item in dataloader_train_norm:\n",
    "            \n",
    "            epoch_iters += 1\n",
    "\n",
    "            inputs = item[0].to(a_device)\n",
    "            labels = item[1].long().to(a_device)\n",
    "\n",
    "            # zero the parameter gradients\n",
    "            optimizer.zero_grad()\n",
    "\n",
    "            # forward + backward + optimize\n",
    "            outputs = net(inputs)\n",
    "            loss = criterion(outputs, labels)\n",
    "            loss.backward()\n",
    "            optimizer.step()\n",
    "\n",
    "            epoch_accuracy += accuracy_score(labels, prediction2classes(outputs))\n",
    "\n",
    "        epoch_accuracy /= epoch_iters\n",
    "        train_acc.append(epoch_accuracy)\n",
    "        \n",
    "        print(\"Epoch \", epoch, round(train_acc[-1], 4))\n",
    "\n",
    "    print('Finished Training')\n",
    "    \n",
    "    plt.plot(train_acc, label='Train')\n",
    "    plt.legend()\n",
    "    plt.grid()"
   ]
  },
  {
   "cell_type": "code",
   "execution_count": 12,
   "metadata": {},
   "outputs": [],
   "source": [
    "class StupidDenseNet(nn.Module):\n",
    "    \n",
    "    def __init__(self):\n",
    "        super(StupidDenseNet, self).__init__()\n",
    "        \n",
    "        self.classifier = nn.Sequential()\n",
    "        self.classifier.add_module('lin1', nn.Linear(3*32*32, 500))\n",
    "        self.classifier.add_module('sig1', torch.nn.Sigmoid())\n",
    "        self.classifier.add_module('lin2', nn.Linear(3*32*32, 500))\n",
    "        self.classifier.add_module('sig2', torch.nn.Sigmoid())\n",
    "        self.classifier.add_module('lin3', nn.Linear(3*32*32, 500))\n",
    "        self.classifier.add_module('sig3', torch.nn.Sigmoid())\n",
    "        \n",
    "    def forward(self, x):\n",
    "        x = self.classifier(x)\n",
    "        return x"
   ]
  },
  {
   "cell_type": "code",
   "execution_count": 13,
   "metadata": {},
   "outputs": [],
   "source": [
    "class LeNet(nn.Module):\n",
    "\n",
    "    def __init__(self):\n",
    "        super(LeNet, self).__init__()\n",
    "        \n",
    "        self.conv1 = nn.Conv2d(3, 6, 5)\n",
    "        self.conv2 = nn.Conv2d(6, 16, 5)\n",
    "        # an affine operation: y = Wx + b\n",
    "        self.fc1 = nn.Linear(16 * 5 * 5, 120)\n",
    "        #Увеличиваем кол-во выходных слоев с 84 - до 84*2 - потому что классов 100\n",
    "        self.fc2 = nn.Linear(120, 84*2)\n",
    "        self.fc3 = nn.Linear(84*2, 100)\n",
    "\n",
    "    def forward(self, x):\n",
    "        # Max pooling over a (2, 2) window\n",
    "        x = F.max_pool2d(F.relu(self.conv1(x)), (2, 2))\n",
    "        # If the size is a square you can only specify a single number\n",
    "        x = F.max_pool2d(F.relu(self.conv2(x)), 2)\n",
    "        x = x.view(-1, self.num_flat_features(x))\n",
    "        x = F.relu(self.fc1(x))\n",
    "        x = F.relu(self.fc2(x))\n",
    "        x = self.fc3(x)\n",
    "        return x\n",
    "\n",
    "    def num_flat_features(self, x):\n",
    "        size = x.size()[1:]  # all dimensions except the batch dimension\n",
    "        num_features = 1\n",
    "        for s in size:\n",
    "            num_features *= s\n",
    "        return num_features"
   ]
  },
  {
   "cell_type": "code",
   "execution_count": 14,
   "metadata": {},
   "outputs": [],
   "source": [
    "    def conv3x3(a_in_planes, a_out_planes, a_stride=1):\n",
    "        return nn.Conv2d(a_in_planes, a_out_planes,  stride=a_stride,\n",
    "                         kernel_size=3, padding=1, bias=False)\n",
    "\n",
    "    def x_downsample(a_in_channels, coef):\n",
    "         return nn.Conv2d(a_in_channels, \n",
    "                   a_in_channels*coef,\n",
    "                   kernel_size=1,\n",
    "                   stride=coef,\n",
    "                   bias=False)\n",
    "\n",
    "    def bn(a_out_channels):\n",
    "        return nn.BatchNorm2d(a_out_channels)"
   ]
  },
  {
   "cell_type": "code",
   "execution_count": 15,
   "metadata": {},
   "outputs": [],
   "source": [
    "class CifarResidualBlock(nn.Module):\n",
    "    def __init__(self, a_in_channels, make_downsample=False, use_skip_connection=True, DOWNSAMPLE_COEF = 2):\n",
    "        super(CifarResidualBlock, self).__init__()\n",
    "        self.use_skip_connection = use_skip_connection\n",
    "        self.make_downsample = make_downsample\n",
    "        \n",
    "        if make_downsample: coef = DOWNSAMPLE_COEF\n",
    "        else: coef = 1  \n",
    "            \n",
    "        # сохранение исходных данных\n",
    "        self.coef = coef\n",
    "        self.a_in_channels = a_in_channels\n",
    "        self.a_out_channels = a_in_channels * self.coef\n",
    "        \n",
    "        # создание слоя для сэмплинга\n",
    "        if self.make_downsample:\n",
    "            self.downsample = x_downsample(self.a_in_channels, self.coef)\n",
    "            \n",
    "        # создание конволюционных и батчнорм слоев\n",
    "        self.conv1 = conv3x3(self.a_in_channels, self.a_out_channels, a_stride = self.coef)\n",
    "        self.bn1 = bn(self.a_out_channels)\n",
    "        \n",
    "        self.conv2 = conv3x3(self.a_out_channels, self.a_out_channels)\n",
    "        self.bn2 = bn(self.a_out_channels)\n",
    "            \n",
    "    def forward(self, x):\n",
    "        residual_x = x\n",
    "        \n",
    "        x = F.relu(self.bn1(self.conv1(x)))\n",
    "        x = self.bn2(self.conv2(x))\n",
    "        \n",
    "        if self.use_skip_connection:\n",
    "            if self.make_downsample:\n",
    "                residual_x = self.downsample(residual_x)\n",
    "            x += residual_x\n",
    "            \n",
    "        x = F.relu(x)\n",
    "        \n",
    "        return x"
   ]
  },
  {
   "cell_type": "code",
   "execution_count": 16,
   "metadata": {},
   "outputs": [],
   "source": [
    "class CifarResNet(nn.Module):\n",
    "    \n",
    "    def __init__(self):\n",
    "        super(CifarResNet, self).__init__()\n",
    "                \n",
    "        self.features = nn.Sequential()\n",
    "        \n",
    "        self.global_conv3x3 =  conv3x3(3,32)\n",
    "        \n",
    "        self.features.add_module('res_block1', CifarResidualBlock(32))\n",
    "        self.features.add_module('res_block2', CifarResidualBlock(32))\n",
    "        self.features.add_module('res_block3', CifarResidualBlock(32, make_downsample = True))\n",
    "        \n",
    "        self.features.add_module('res_block4', CifarResidualBlock(64))\n",
    "        self.features.add_module('res_block5', CifarResidualBlock(64))\n",
    "        self.features.add_module('res_block6', CifarResidualBlock(64))\n",
    "        self.features.add_module('res_block7', CifarResidualBlock(64, make_downsample = True))\n",
    "        \n",
    "        self.features.add_module('res_block8', CifarResidualBlock(128))\n",
    "        self.features.add_module('res_block9', CifarResidualBlock(128))\n",
    "        self.features.add_module('res_block10', CifarResidualBlock(128))\n",
    "        self.features.add_module('res_block11', CifarResidualBlock(128, make_downsample = True))\n",
    "        \n",
    "        self.features.add_module('res_block12', CifarResidualBlock(256))\n",
    "        self.features.add_module('res_block13', CifarResidualBlock(256))\n",
    "        self.features.add_module('res_block14', CifarResidualBlock(256))\n",
    "        self.features.add_module('res_block15', CifarResidualBlock(256, make_downsample = True))\n",
    "        \n",
    "        \n",
    "        self.global_avg_pooling = nn.AvgPool2d(kernel_size=2)\n",
    "        self.fc_classifier = nn.Linear(512, 100)\n",
    "        \n",
    "    def forward(self, x):\n",
    "        x = self.global_conv3x3(x)\n",
    "        x = self.features(x)\n",
    "        x = self.global_avg_pooling(x) \n",
    "        x = x.view((x.size()[0], -1))        \n",
    "        x = self.fc_classifier(x)        \n",
    "        return x"
   ]
  },
  {
   "cell_type": "code",
   "execution_count": 17,
   "metadata": {},
   "outputs": [],
   "source": [
    "# dense_net = StupidDenseNet()\n",
    "# %time train_network(dense_net, torch.device(DEVICE))"
   ]
  },
  {
   "cell_type": "code",
   "execution_count": 18,
   "metadata": {},
   "outputs": [],
   "source": [
    "# lenet = LeNet()\n",
    "# %time train_network(lenet, torch.device('cpu'), a_epochs=10)"
   ]
  },
  {
   "cell_type": "code",
   "execution_count": 19,
   "metadata": {},
   "outputs": [],
   "source": [
    "# lenet = LeNet()\n",
    "# %time train_network(lenet, torch.device(DEVICE), a_epochs=10)"
   ]
  },
  {
   "cell_type": "code",
   "execution_count": 20,
   "metadata": {},
   "outputs": [],
   "source": [
    "# lenet = LeNet()\n",
    "# %time train_network(lenet, torch.device(DEVICE))"
   ]
  },
  {
   "cell_type": "code",
   "execution_count": 21,
   "metadata": {},
   "outputs": [
    {
     "data": {
      "application/vnd.jupyter.widget-view+json": {
       "model_id": "6e13340e0fae42b49a9b49a47649109a",
       "version_major": 2,
       "version_minor": 0
      },
      "text/plain": [
       "HBox(children=(IntProgress(value=0, max=80), HTML(value='')))"
      ]
     },
     "metadata": {},
     "output_type": "display_data"
    },
    {
     "name": "stdout",
     "output_type": "stream",
     "text": [
      "Epoch  0 0.0813\n",
      "Epoch  1 0.1692\n",
      "Epoch  2 0.2338\n",
      "Epoch  3 0.2906\n",
      "Epoch  4 0.3409\n",
      "Epoch  5 0.3879\n",
      "Epoch  6 0.4254\n",
      "Epoch  7 0.4629\n",
      "Epoch  8 0.4929\n",
      "Epoch  9 0.5197\n",
      "Epoch  10 0.5415\n",
      "Epoch  11 0.5635\n",
      "Epoch  12 0.5797\n",
      "Epoch  13 0.5977\n",
      "Epoch  14 0.6131\n",
      "Epoch  15 0.6285\n",
      "Epoch  16 0.6453\n",
      "Epoch  17 0.6541\n",
      "Epoch  18 0.6632\n",
      "Epoch  19 0.6806\n",
      "Epoch  20 0.687\n",
      "Epoch  21 0.6976\n",
      "Epoch  22 0.7042\n",
      "Epoch  23 0.7185\n",
      "Epoch  24 0.7265\n",
      "Epoch  25 0.732\n",
      "Epoch  26 0.7402\n",
      "Epoch  27 0.7495\n",
      "Epoch  28 0.7562\n",
      "Epoch  29 0.7614\n",
      "Epoch  30 0.7719\n",
      "Epoch  31 0.7732\n",
      "Epoch  32 0.7807\n",
      "Epoch  33 0.7836\n",
      "Epoch  34 0.7953\n",
      "Epoch  35 0.8044\n",
      "Epoch  36 0.804\n",
      "Epoch  37 0.8073\n",
      "Epoch  38 0.8161\n",
      "Epoch  39 0.8193\n",
      "Epoch  40 0.8204\n",
      "Epoch  41 0.8236\n",
      "Epoch  42 0.9172\n",
      "Epoch  43 0.9478\n",
      "Epoch  44 0.9572\n",
      "Epoch  45 0.9627\n",
      "Epoch  46 0.9685\n",
      "Epoch  47 0.9719\n",
      "Epoch  48 0.975\n",
      "Epoch  49 0.9772\n",
      "Epoch  50 0.9785\n",
      "Epoch  51 0.9809\n",
      "Epoch  52 0.9822\n",
      "Epoch  53 0.9848\n",
      "Epoch  54 0.9863\n",
      "Epoch  55 0.9862\n",
      "Epoch  56 0.9866\n",
      "Epoch  57 0.9889\n",
      "Epoch  58 0.9887\n",
      "Epoch  59 0.9902\n",
      "Epoch  60 0.9903\n",
      "Epoch  61 0.991\n",
      "Epoch  62 0.9913\n",
      "Epoch  63 0.9922\n",
      "Epoch  64 0.9929\n",
      "Epoch  65 0.9929\n",
      "Epoch  66 0.9934\n",
      "Epoch  67 0.9937\n",
      "Epoch  68 0.994\n",
      "Epoch  69 0.9944\n",
      "Epoch  70 0.9938\n",
      "Epoch  71 0.9946\n",
      "Epoch  72 0.9948\n",
      "Epoch  73 0.9948\n",
      "Epoch  74 0.995\n",
      "Epoch  75 0.9943\n",
      "Epoch  76 0.9944\n",
      "Epoch  77 0.995\n",
      "Epoch  78 0.9953\n",
      "Epoch  79 0.9954\n",
      "\n",
      "Finished Training\n",
      "CPU times: user 1h 12min 34s, sys: 27min 4s, total: 1h 39min 38s\n",
      "Wall time: 1h 40min 39s\n"
     ]
    },
    {
     "data": {
      "image/png": "[encoded data removed]",
      "text/plain": [
       "<Figure size 432x288 with 1 Axes>"
      ]
     },
     "metadata": {
      "needs_background": "light"
     },
     "output_type": "display_data"
    }
   ],
   "source": [
    "resnet = CifarResNet()\n",
    "%time train_network(resnet, torch.device(DEVICE))"
   ]
  },
  {
   "cell_type": "code",
   "execution_count": 22,
   "metadata": {},
   "outputs": [],
   "source": [
    "def make_solution(a_net, a_device):\n",
    "    res = []\n",
    "    net = a_net.eval()\n",
    "    for item in dataloader_test_norm:\n",
    "        inputs = item.to(a_device)\n",
    "        outputs = net(inputs) \n",
    "\n",
    "        res += prediction2classes(outputs)\n",
    "    return res"
   ]
  },
  {
   "cell_type": "code",
   "execution_count": 23,
   "metadata": {},
   "outputs": [],
   "source": [
    "my_solution = make_solution(resnet, DEVICE)"
   ]
  },
  {
   "cell_type": "code",
   "execution_count": 24,
   "metadata": {},
   "outputs": [],
   "source": [
    "with open('my_solution.csv', 'w') as fout:\n",
    "    print('Id', 'Prediction', sep=',', file=fout)\n",
    "    for i, prediction in enumerate(my_solution):\n",
    "        print(i, prediction, sep=',', file=fout)"
   ]
  }
 ],
 "metadata": {
  "kernelspec": {
   "display_name": "Python 3",
   "language": "python",
   "name": "python3"
  },
  "language_info": {
   "codemirror_mode": {
    "name": "ipython",
    "version": 3
   },
   "file_extension": ".py",
   "mimetype": "text/x-python",
   "name": "python",
   "nbconvert_exporter": "python",
   "pygments_lexer": "ipython3",
   "version": "3.6.5"
  }
 },
 "nbformat": 4,
 "nbformat_minor": 1
}
