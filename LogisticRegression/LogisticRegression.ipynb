{
 "cells": [
  {
   "cell_type": "code",
   "execution_count": 1,
   "metadata": {},
   "outputs": [],
   "source": [
    "from sklearn.model_selection import train_test_split\n",
    "from sklearn.metrics import accuracy_score\n",
    "import pickle\n",
    "import numpy as np\n",
    "import matplotlib.pylab as plt\n",
    "import tqdm\n",
    "import math\n",
    "%matplotlib inline"
   ]
  },
  {
   "cell_type": "markdown",
   "metadata": {
    "collapsed": true
   },
   "source": [
    "# Загружаем датасет"
   ]
  },
  {
   "cell_type": "code",
   "execution_count": 2,
   "metadata": {},
   "outputs": [],
   "source": [
    "with open('./hw_1_train.pickle', 'rb') as f:\n",
    "    train = pickle.load(f)\n",
    "\n",
    "with open('./hw_1_test_no_lables.pickle', 'rb') as f:\n",
    "    test_no_lables = pickle.load(f)"
   ]
  },
  {
   "cell_type": "code",
   "execution_count": 3,
   "metadata": {},
   "outputs": [
    {
     "data": {
      "text/plain": [
       "<matplotlib.image.AxesImage at 0x10963a240>"
      ]
     },
     "execution_count": 3,
     "metadata": {},
     "output_type": "execute_result"
    },
    {
     "data": {
      "image/png": "[encoded data removed]",
      "text/plain": [
       "<Figure size 432x288 with 1 Axes>"
      ]
     },
     "metadata": {},
     "output_type": "display_data"
    }
   ],
   "source": [
    "# Пример, как можно визуализировать данные\n",
    "plt.imshow(train['data'][0].reshape(28,28))"
   ]
  },
  {
   "cell_type": "markdown",
   "metadata": {},
   "source": [
    "# Обработка входных данных"
   ]
  },
  {
   "cell_type": "code",
   "execution_count": 4,
   "metadata": {},
   "outputs": [],
   "source": [
    "def normalization(x):\n",
    "    mean = np.mean(x, axis=0)\n",
    "    std = np.std(x, axis=0) + 0.00001\n",
    "    return (x - mean) / std\n",
    "\n",
    "# нормализация и добавление единичной колонки для w0\n",
    "train['data'] = np.hstack([np.ones((train['data'].shape[0], 1)), normalization(train['data'])])\n",
    "test_no_lables['data'] = np.hstack([np.ones((test_no_lables['data'].shape[0], 1)), normalization(test_no_lables['data'])])\n",
    "\n",
    "# разделение входных данных на обучающие и валидационные\n",
    "x_train, x_test, y_train, y_test = train_test_split(train['data'], train['labels'], test_size=0.2, shuffle=False)\n",
    "np.random.seed(10)\n",
    "\n",
    "# изменение меток\n",
    "y_train = list(map(lambda x: 1 if x==6 else -1, y_train))\n",
    "y_test = list(map(lambda x:1 if x==6 else -1, y_test))\n",
    "\n",
    "# объявление весов случайным образом\n",
    "w = np.random.normal(scale=0.0001, size=x_train.shape[1])\n",
    "# эта\n",
    "p1 = 0.0001\n",
    "# лямбда\n",
    "p2 = 0.0001"
   ]
  },
  {
   "cell_type": "markdown",
   "metadata": {},
   "source": [
    "# Методы для обработки данных"
   ]
  },
  {
   "cell_type": "code",
   "execution_count": 5,
   "metadata": {},
   "outputs": [],
   "source": [
    "# сигмоида\n",
    "def sigmoid(arg):\n",
    "    return 1 / (1 + np.exp(-arg))\n",
    "\n",
    "# классификация\n",
    "def predict(x, dtype):\n",
    "    y = []\n",
    "    for i in range(x.shape[0]):\n",
    "        pred = sigmoid(np.dot(w.T, x[i]))\n",
    "        if dtype == 1:\n",
    "            y.append(pred)\n",
    "        elif pred >= 0.5:\n",
    "            y.append(1)\n",
    "        else:\n",
    "            y.append(-1)\n",
    "    return y\n",
    "\n",
    "# сохранение в формате csv\n",
    "def toCSV(x):\n",
    "    y = predict(x, 1)\n",
    "    i = 0\n",
    "    with open('solution.csv', 'w') as fout:\n",
    "        print(\"Id,Prediction\", file=fout)\n",
    "        for i in range(len(y)):\n",
    "            print(i, y[i], sep=',', file=fout)\n",
    "\n",
    "# расчет функции потерь\n",
    "def log_loss(y, x, w):\n",
    "    logloss = 0\n",
    "    for i in range(len(y)):\n",
    "        logloss += math.log(1 + np.exp(-y[i] * np.dot(w.T, x[i])))\n",
    "    return logloss / len(y)\n"
   ]
  },
  {
   "cell_type": "markdown",
   "metadata": {},
   "source": [
    "# Запуск эпох"
   ]
  },
  {
   "cell_type": "code",
   "execution_count": 6,
   "metadata": {},
   "outputs": [
    {
     "data": {
      "application/vnd.jupyter.widget-view+json": {
       "model_id": "7852f89010874599886df00bbeaf3c93",
       "version_major": 2,
       "version_minor": 0
      },
      "text/plain": [
       "HBox(children=(IntProgress(value=0), HTML(value='')))"
      ]
     },
     "metadata": {},
     "output_type": "display_data"
    },
    {
     "name": "stdout",
     "output_type": "stream",
     "text": [
      "\n",
      "Train: logloss=0.03851937815185321 accuracy=0.98725\n",
      "Test: logloss=0.05376446045757875 accuracy=0.983\n"
     ]
    }
   ],
   "source": [
    "train_ll = []\n",
    "train_acc = []\n",
    "test_ll = []\n",
    "test_acc = []\n",
    "\n",
    "epochs = 100\n",
    "for i in tqdm.tqdm_notebook(range(epochs)):\n",
    "    for k in range(x_train.shape[0]):\n",
    "        j = np.random.randint(0, len(x_train))\n",
    "        # расчет градиентов\n",
    "        gd = - (y_train[j] * x_train[j] / (1 + np.exp(y_train[j] * np.dot(w.T, x_train[j])))) + p2 * w\n",
    "        w = w - p1 * gd\n",
    "    # расчет ошибок и точностей\n",
    "    train_ll.append(log_loss(y_train, x_train, w))\n",
    "    train_acc.append(accuracy_score(predict(x_train, 2), y_train))\n",
    "    test_ll.append(log_loss(y_test, x_test, w))\n",
    "    test_acc.append(accuracy_score(predict(x_test, 2), y_test))\n",
    "\n",
    "# вывод ошибок и точностей\n",
    "print(\"Train: logloss=\" + str(train_ll[len(train_ll)-1]) + \" accuracy=\" + str(train_acc[len(train_acc)-1]))\n",
    "print(\"Test: logloss=\" + str(test_ll[len(test_ll)-1]) + \" accuracy=\" + str(test_acc[len(test_acc)-1]))"
   ]
  },
  {
   "cell_type": "markdown",
   "metadata": {},
   "source": [
    "# Оцениваем результат"
   ]
  },
  {
   "cell_type": "markdown",
   "metadata": {},
   "source": [
    "Обязательно отрисуйте 2 графика:\n",
    "- loss на обучающем и тестовом множесте\n",
    "- % правильно классифицированных примеров на тестовом и обучающем множестве"
   ]
  },
  {
   "cell_type": "code",
   "execution_count": 7,
   "metadata": {
    "scrolled": true
   },
   "outputs": [
    {
     "data": {
      "text/plain": [
       "<matplotlib.legend.Legend at 0x109764588>"
      ]
     },
     "execution_count": 7,
     "metadata": {},
     "output_type": "execute_result"
    },
    {
     "data": {
      "image/png": "[encoded data removed]",
      "text/plain": [
       "<Figure size 432x288 with 1 Axes>"
      ]
     },
     "metadata": {},
     "output_type": "display_data"
    }
   ],
   "source": [
    "x = np.linspace(0, epochs, num=epochs)\n",
    "\n",
    "plt.title('Loss')\n",
    "plt.plot(x, train_ll, label='train')\n",
    "plt.plot(x, test_ll, label='test')\n",
    "plt.legend()"
   ]
  },
  {
   "cell_type": "code",
   "execution_count": 8,
   "metadata": {},
   "outputs": [
    {
     "data": {
      "text/plain": [
       "<matplotlib.legend.Legend at 0x103c47668>"
      ]
     },
     "execution_count": 8,
     "metadata": {},
     "output_type": "execute_result"
    },
    {
     "data": {
      "image/png": "[encoded data removed]",
      "text/plain": [
       "<Figure size 432x288 with 1 Axes>"
      ]
     },
     "metadata": {},
     "output_type": "display_data"
    }
   ],
   "source": [
    "plt.title('Acc')\n",
    "plt.plot(x, train_acc, label='train')\n",
    "plt.plot(x, test_acc, label='test')\n",
    "plt.legend()"
   ]
  },
  {
   "cell_type": "markdown",
   "metadata": {},
   "source": [
    "# Сохраняем данные для кагла"
   ]
  },
  {
   "cell_type": "markdown",
   "metadata": {},
   "source": [
    "https://www.kaggle.com/t/513ea517806348848dc78c4f41d44528"
   ]
  },
  {
   "cell_type": "markdown",
   "metadata": {},
   "source": [
    "Результат записывается в простой текстовый файл. Первая строчка \"Id,Prediction\", далее для каждого примера из валидационного множества записывается его Id (порядковый номер, с нуля) и вероятность принадлежности к классу '6', например '123,0.12'.\n",
    "\n",
    "Важно соблюдать тот же порядок следования элементов, что и в наборе данных. Нумерация id с 0"
   ]
  },
  {
   "cell_type": "code",
   "execution_count": 9,
   "metadata": {},
   "outputs": [],
   "source": [
    "# импортирование в csv\n",
    "toCSV(test_no_lables['data'])"
   ]
  }
 ],
 "metadata": {
  "kernelspec": {
   "display_name": "Python 3",
   "language": "python",
   "name": "python3"
  },
  "language_info": {
   "codemirror_mode": {
    "name": "ipython",
    "version": 3
   },
   "file_extension": ".py",
   "mimetype": "text/x-python",
   "name": "python",
   "nbconvert_exporter": "python",
   "pygments_lexer": "ipython3",
   "version": "3.6.5"
  }
 },
 "nbformat": 4,
 "nbformat_minor": 2
}
